{
 "cells": [
  {
   "cell_type": "code",
   "execution_count": 2,
   "metadata": {},
   "outputs": [],
   "source": [
    "%load_ext autoreload\n",
    "%autoreload 2"
   ]
  },
  {
   "cell_type": "markdown",
   "metadata": {},
   "source": [
    "## Initial Imports"
   ]
  },
  {
   "cell_type": "code",
   "execution_count": 3,
   "metadata": {},
   "outputs": [],
   "source": [
    "from classipy_datagen import GBQDataset, KaggleDataset, merge_data\n",
    "import pandas as pd"
   ]
  },
  {
   "cell_type": "markdown",
   "metadata": {},
   "source": [
    "## Gather Data"
   ]
  },
  {
   "cell_type": "markdown",
   "metadata": {},
   "source": [
    "### GBQ DATA"
   ]
  },
  {
   "cell_type": "code",
   "execution_count": null,
   "metadata": {},
   "outputs": [],
   "source": [
    "# g = GBQDataset()\n",
    "# gbq_df = g.download_datasets()\n",
    "# gbq_df.head()"
   ]
  },
  {
   "cell_type": "markdown",
   "metadata": {},
   "source": [
    "### Kaggle DATA"
   ]
  },
  {
   "cell_type": "code",
   "execution_count": null,
   "metadata": {},
   "outputs": [],
   "source": [
    "# k = KaggleDataset(1000)\n",
    "# kaggle_df = k.download_datasets()\n",
    "# kaggle_df.head()"
   ]
  },
  {
   "cell_type": "markdown",
   "metadata": {},
   "source": [
    "## Sanity Checks"
   ]
  },
  {
   "cell_type": "code",
   "execution_count": 10,
   "metadata": {},
   "outputs": [
    {
     "data": {
      "text/plain": [
       "(2513, 15)"
      ]
     },
     "execution_count": 10,
     "metadata": {},
     "output_type": "execute_result"
    }
   ],
   "source": [
    "gbq_df = pd.read_json('../raw_data/gbq_data.json')\n",
    "gbq_df.shape"
   ]
  },
  {
   "cell_type": "code",
   "execution_count": 9,
   "metadata": {},
   "outputs": [
    {
     "data": {
      "text/plain": [
       "(17799, 15)"
      ]
     },
     "execution_count": 9,
     "metadata": {},
     "output_type": "execute_result"
    }
   ],
   "source": [
    "kaggle_df = pd.read_json('../raw_data/kaggle_data.json')\n",
    "kaggle_df.shape\n"
   ]
  },
  {
   "cell_type": "code",
   "execution_count": 21,
   "metadata": {},
   "outputs": [],
   "source": [
    "combined_df = pd.concat([kaggle_df,gbq_df], axis=0)"
   ]
  },
  {
   "cell_type": "markdown",
   "metadata": {},
   "source": [
    "## Merge with Labeled Data"
   ]
  },
  {
   "cell_type": "code",
   "execution_count": 23,
   "metadata": {},
   "outputs": [],
   "source": [
    "labeled_df = pd.read_csv('../raw_data/merged_labeled_data.csv')"
   ]
  },
  {
   "cell_type": "code",
   "execution_count": 24,
   "metadata": {},
   "outputs": [
    {
     "data": {
      "text/html": [
       "<div>\n",
       "<style scoped>\n",
       "    .dataframe tbody tr th:only-of-type {\n",
       "        vertical-align: middle;\n",
       "    }\n",
       "\n",
       "    .dataframe tbody tr th {\n",
       "        vertical-align: top;\n",
       "    }\n",
       "\n",
       "    .dataframe thead th {\n",
       "        text-align: right;\n",
       "    }\n",
       "</style>\n",
       "<table border=\"1\" class=\"dataframe\">\n",
       "  <thead>\n",
       "    <tr style=\"text-align: right;\">\n",
       "      <th></th>\n",
       "      <th>dataset_name</th>\n",
       "      <th>table_name</th>\n",
       "      <th>column_name</th>\n",
       "      <th>label</th>\n",
       "      <th>column_values</th>\n",
       "      <th>column_values_unique</th>\n",
       "      <th>nunique_values</th>\n",
       "      <th>n_values</th>\n",
       "      <th>mean</th>\n",
       "      <th>std</th>\n",
       "      <th>median</th>\n",
       "      <th>skew</th>\n",
       "      <th>kurt</th>\n",
       "      <th>shapiro_wilk_test</th>\n",
       "    </tr>\n",
       "  </thead>\n",
       "  <tbody>\n",
       "    <tr>\n",
       "      <th>0</th>\n",
       "      <td>nareshbhat/health-care-data-set-on-heart-attac...</td>\n",
       "      <td>heart.csv</td>\n",
       "      <td>thalach</td>\n",
       "      <td>int</td>\n",
       "      <td>['150, 187, 172, 178, 163, 148, 153, 173, 162,...</td>\n",
       "      <td>[150 187 172 178 163 148 153 173 162 174 160 1...</td>\n",
       "      <td>91.0</td>\n",
       "      <td>303.0</td>\n",
       "      <td>149.6468647</td>\n",
       "      <td>22.905161</td>\n",
       "      <td>153.00000</td>\n",
       "      <td>-0.537410</td>\n",
       "      <td>-0.061970</td>\n",
       "      <td>0.000066</td>\n",
       "    </tr>\n",
       "    <tr>\n",
       "      <th>1</th>\n",
       "      <td>kimjihoo/coronavirusdataset</td>\n",
       "      <td>SearchTrend.csv</td>\n",
       "      <td>coronavirus</td>\n",
       "      <td>float</td>\n",
       "      <td>['0.00736, 0.00436, 0.00927, 0.01181, 0.00563,...</td>\n",
       "      <td>[7.360000e-03 4.360000e-03 9.270000e-03 1.1810...</td>\n",
       "      <td>326.0</td>\n",
       "      <td>1000.0</td>\n",
       "      <td>2.0906601</td>\n",
       "      <td>10.010559</td>\n",
       "      <td>0.00881</td>\n",
       "      <td>6.305825</td>\n",
       "      <td>42.379589</td>\n",
       "      <td>0.000000</td>\n",
       "    </tr>\n",
       "    <tr>\n",
       "      <th>2</th>\n",
       "      <td>kimjihoo/coronavirusdataset</td>\n",
       "      <td>Weather.csv</td>\n",
       "      <td>province</td>\n",
       "      <td>cat-multi</td>\n",
       "      <td>['Daegu, Chungcheongbuk-do, Incheon, Ulsan, Bu...</td>\n",
       "      <td>['Daegu' 'Chungcheongbuk-do' 'Incheon' 'Ulsan'...</td>\n",
       "      <td>16.0</td>\n",
       "      <td>1000.0</td>\n",
       "      <td>NaN</td>\n",
       "      <td>NaN</td>\n",
       "      <td>NaN</td>\n",
       "      <td>NaN</td>\n",
       "      <td>NaN</td>\n",
       "      <td>NaN</td>\n",
       "    </tr>\n",
       "    <tr>\n",
       "      <th>3</th>\n",
       "      <td>kimjihoo/coronavirusdataset</td>\n",
       "      <td>PatientInfo.csv</td>\n",
       "      <td>age</td>\n",
       "      <td>cat-multi</td>\n",
       "      <td>['50s, 30s, 40s, nan, nan, 10s, 20s, 20s, 50s,...</td>\n",
       "      <td>['50s' '30s' '40s' nan '10s' '20s' '70s' '80s'...</td>\n",
       "      <td>10.0</td>\n",
       "      <td>1000.0</td>\n",
       "      <td>NaN</td>\n",
       "      <td>NaN</td>\n",
       "      <td>NaN</td>\n",
       "      <td>NaN</td>\n",
       "      <td>NaN</td>\n",
       "      <td>NaN</td>\n",
       "    </tr>\n",
       "    <tr>\n",
       "      <th>4</th>\n",
       "      <td>kimjihoo/coronavirusdataset</td>\n",
       "      <td>Policy.csv</td>\n",
       "      <td>policy_id</td>\n",
       "      <td>int</td>\n",
       "      <td>['1, 2, 3, 4, 5, 6, 7, 8, 9, 10, 11, 12, 13, 1...</td>\n",
       "      <td>[ 1  2  3  4  5  6  7  8  9 10 11 12 13 14 15 ...</td>\n",
       "      <td>61.0</td>\n",
       "      <td>61.0</td>\n",
       "      <td>31.0</td>\n",
       "      <td>17.752934</td>\n",
       "      <td>31.00000</td>\n",
       "      <td>0.000000</td>\n",
       "      <td>-1.200000</td>\n",
       "      <td>0.025660</td>\n",
       "    </tr>\n",
       "  </tbody>\n",
       "</table>\n",
       "</div>"
      ],
      "text/plain": [
       "                                        dataset_name       table_name  \\\n",
       "0  nareshbhat/health-care-data-set-on-heart-attac...        heart.csv   \n",
       "1                        kimjihoo/coronavirusdataset  SearchTrend.csv   \n",
       "2                        kimjihoo/coronavirusdataset      Weather.csv   \n",
       "3                        kimjihoo/coronavirusdataset  PatientInfo.csv   \n",
       "4                        kimjihoo/coronavirusdataset       Policy.csv   \n",
       "\n",
       "   column_name      label                                      column_values  \\\n",
       "0      thalach        int  ['150, 187, 172, 178, 163, 148, 153, 173, 162,...   \n",
       "1  coronavirus      float  ['0.00736, 0.00436, 0.00927, 0.01181, 0.00563,...   \n",
       "2     province  cat-multi  ['Daegu, Chungcheongbuk-do, Incheon, Ulsan, Bu...   \n",
       "3          age  cat-multi  ['50s, 30s, 40s, nan, nan, 10s, 20s, 20s, 50s,...   \n",
       "4    policy_id        int  ['1, 2, 3, 4, 5, 6, 7, 8, 9, 10, 11, 12, 13, 1...   \n",
       "\n",
       "                                column_values_unique  nunique_values  \\\n",
       "0  [150 187 172 178 163 148 153 173 162 174 160 1...            91.0   \n",
       "1  [7.360000e-03 4.360000e-03 9.270000e-03 1.1810...           326.0   \n",
       "2  ['Daegu' 'Chungcheongbuk-do' 'Incheon' 'Ulsan'...            16.0   \n",
       "3  ['50s' '30s' '40s' nan '10s' '20s' '70s' '80s'...            10.0   \n",
       "4  [ 1  2  3  4  5  6  7  8  9 10 11 12 13 14 15 ...            61.0   \n",
       "\n",
       "   n_values         mean        std     median      skew       kurt  \\\n",
       "0     303.0  149.6468647  22.905161  153.00000 -0.537410  -0.061970   \n",
       "1    1000.0    2.0906601  10.010559    0.00881  6.305825  42.379589   \n",
       "2    1000.0          NaN        NaN        NaN       NaN        NaN   \n",
       "3    1000.0          NaN        NaN        NaN       NaN        NaN   \n",
       "4      61.0         31.0  17.752934   31.00000  0.000000  -1.200000   \n",
       "\n",
       "   shapiro_wilk_test  \n",
       "0           0.000066  \n",
       "1           0.000000  \n",
       "2                NaN  \n",
       "3                NaN  \n",
       "4           0.025660  "
      ]
     },
     "execution_count": 24,
     "metadata": {},
     "output_type": "execute_result"
    }
   ],
   "source": [
    "labeled_df.head()"
   ]
  },
  {
   "cell_type": "code",
   "execution_count": 26,
   "metadata": {},
   "outputs": [],
   "source": [
    "merged_labeled_data = merge_data(labeled_df,combined_df)"
   ]
  },
  {
   "cell_type": "code",
   "execution_count": 29,
   "metadata": {},
   "outputs": [],
   "source": [
    "merged_labeled_data.to_json('../raw_data/labeled_data.json')"
   ]
  },
  {
   "cell_type": "code",
   "execution_count": 30,
   "metadata": {},
   "outputs": [],
   "source": [
    "merged_labeled_data.to_csv('../raw_data/labeled_data.csv')"
   ]
  },
  {
   "cell_type": "code",
   "execution_count": null,
   "metadata": {},
   "outputs": [],
   "source": []
  },
  {
   "cell_type": "markdown",
   "metadata": {},
   "source": []
  }
 ],
 "metadata": {
  "interpreter": {
   "hash": "885d2f8c9ab62d515ed730a355c49651d57832b70813c221aab6cc30d1840e63"
  },
  "kernelspec": {
   "display_name": "Python 3.8.12 64-bit ('classipy_datagen': pyenv)",
   "language": "python",
   "name": "python3"
  },
  "language_info": {
   "codemirror_mode": {
    "name": "ipython",
    "version": 3
   },
   "file_extension": ".py",
   "mimetype": "text/x-python",
   "name": "python",
   "nbconvert_exporter": "python",
   "pygments_lexer": "ipython3",
   "version": "3.8.12"
  },
  "orig_nbformat": 4
 },
 "nbformat": 4,
 "nbformat_minor": 2
}
