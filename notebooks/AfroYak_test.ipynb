{
 "cells": [
  {
   "cell_type": "code",
   "execution_count": 1,
   "metadata": {},
   "outputs": [],
   "source": [
    "%load_ext autoreload\n",
    "%autoreload 2"
   ]
  },
  {
   "cell_type": "code",
   "execution_count": 2,
   "metadata": {},
   "outputs": [],
   "source": [
    "import pandas as pd\n",
    "from classipy_datagen import GBQDataset, KaggleDataset"
   ]
  },
  {
   "cell_type": "code",
   "execution_count": 4,
   "metadata": {},
   "outputs": [
    {
     "name": "stdout",
     "output_type": "stream",
     "text": [
      "Called!\n",
      "Processing DataFrame: nareshbhat/health-care-data-set-on-heart-attack-possibility heart.csv\n",
      "Completed : {'nareshbhat/health-care-data-set-on-heart-attack-possibility'} {'heart.csv'}\n",
      "Completed Creating Dataset | Saved @ /home/omer/code/AfroYak/classipy_datagen/raw_data/kaggle_data\n",
      "Fetching : {'bigquery-public-data.austin_bikeshare'} {'bikeshare_trips'}\n",
      "Processing DataFrame: bigquery-public-data.austin_bikeshare bikeshare_trips\n",
      "Completed : {'bigquery-public-data.austin_bikeshare'} {'bikeshare_trips'}\n",
      "Completed Creating Dataset | Saved @ /home/omer/code/AfroYak/classipy_datagen/raw_data/gbq_data\n"
     ]
    },
    {
     "name": "stderr",
     "output_type": "stream",
     "text": [
      "/home/omer/.pyenv/versions/3.8.12/envs/classipy_datagen/lib/python3.8/site-packages/google/cloud/bigquery/table.py:1967: FutureWarning: Using .astype to convert from timezone-aware dtype to timezone-naive dtype is deprecated and will raise in a future version.  Use obj.tz_localize(None) or obj.tz_convert('UTC').tz_localize(None) instead\n",
      "  df[column] = pandas.Series(df[column], dtype=dtypes[column])\n"
     ]
    }
   ],
   "source": [
    "k = KaggleDataset(1);\n",
    "k.download_datasets();\n",
    "\n",
    "g = GBQDataset(1);\n",
    "g.download_datasets();\n"
   ]
  },
  {
   "cell_type": "code",
   "execution_count": 8,
   "metadata": {},
   "outputs": [],
   "source": [
    "df_gbq = pd.read_json('../raw_data/gbq_data.json')\n",
    "df_kaggle = pd.read_json('../raw_data/kaggle_data.json')"
   ]
  },
  {
   "cell_type": "code",
   "execution_count": 10,
   "metadata": {},
   "outputs": [
    {
     "data": {
      "text/html": [
       "<div>\n",
       "<style scoped>\n",
       "    .dataframe tbody tr th:only-of-type {\n",
       "        vertical-align: middle;\n",
       "    }\n",
       "\n",
       "    .dataframe tbody tr th {\n",
       "        vertical-align: top;\n",
       "    }\n",
       "\n",
       "    .dataframe thead th {\n",
       "        text-align: right;\n",
       "    }\n",
       "</style>\n",
       "<table border=\"1\" class=\"dataframe\">\n",
       "  <thead>\n",
       "    <tr style=\"text-align: right;\">\n",
       "      <th></th>\n",
       "      <th>dataset_name</th>\n",
       "      <th>table_name</th>\n",
       "      <th>column_name</th>\n",
       "      <th>label</th>\n",
       "      <th>column_values</th>\n",
       "      <th>column_values_unique</th>\n",
       "      <th>n_unique_values</th>\n",
       "      <th>unique_value_counts</th>\n",
       "      <th>n_values</th>\n",
       "      <th>mean</th>\n",
       "      <th>std</th>\n",
       "      <th>median</th>\n",
       "      <th>skew</th>\n",
       "      <th>kurt</th>\n",
       "      <th>shapiro_wilk_test</th>\n",
       "    </tr>\n",
       "  </thead>\n",
       "  <tbody>\n",
       "    <tr>\n",
       "      <th>0</th>\n",
       "      <td>bigquery-public-data.austin_bikeshare</td>\n",
       "      <td>bikeshare_trips</td>\n",
       "      <td>trip_id</td>\n",
       "      <td>NaN</td>\n",
       "      <td>9900118351, 16962851, 17456263, 9900104794, 18...</td>\n",
       "      <td>[9900118351, 16962851, 17456263, 9900104794, 1...</td>\n",
       "      <td>1000</td>\n",
       "      <td>[1, 1, 1, 1, 1, 1, 1, 1, 1, 1, 1, 1, 1, 1, 1, ...</td>\n",
       "      <td>1000</td>\n",
       "      <td>2.260872e+09</td>\n",
       "      <td>4.141855e+09</td>\n",
       "      <td>1.880091e+07</td>\n",
       "      <td>1.305393</td>\n",
       "      <td>-0.296542</td>\n",
       "      <td>1.401298e-45</td>\n",
       "    </tr>\n",
       "    <tr>\n",
       "      <th>1</th>\n",
       "      <td>bigquery-public-data.austin_bikeshare</td>\n",
       "      <td>bikeshare_trips</td>\n",
       "      <td>subscriber_type</td>\n",
       "      <td>NaN</td>\n",
       "      <td>Weekender, U.T. Student Membership, U.T. Stude...</td>\n",
       "      <td>[Weekender, U.T. Student Membership, Walk Up, ...</td>\n",
       "      <td>33</td>\n",
       "      <td>[254, 225, 158, 65, 53, 36, 34, 30, 25, 21, 14...</td>\n",
       "      <td>1000</td>\n",
       "      <td>NaN</td>\n",
       "      <td>NaN</td>\n",
       "      <td>NaN</td>\n",
       "      <td>NaN</td>\n",
       "      <td>NaN</td>\n",
       "      <td>NaN</td>\n",
       "    </tr>\n",
       "    <tr>\n",
       "      <th>2</th>\n",
       "      <td>bigquery-public-data.austin_bikeshare</td>\n",
       "      <td>bikeshare_trips</td>\n",
       "      <td>bikeid</td>\n",
       "      <td>NaN</td>\n",
       "      <td>885, 685, 288, 261G, 85, 1277, 962, 1830, 247,...</td>\n",
       "      <td>[885, 685, 288, 261G, 85, 1277, 962, 1830, 247...</td>\n",
       "      <td>531</td>\n",
       "      <td>[6, 6, 5, 5, 5, 5, 5, 5, 5, 5, 5, 5, 5, 4, 4, ...</td>\n",
       "      <td>1000</td>\n",
       "      <td>NaN</td>\n",
       "      <td>NaN</td>\n",
       "      <td>NaN</td>\n",
       "      <td>NaN</td>\n",
       "      <td>NaN</td>\n",
       "      <td>NaN</td>\n",
       "    </tr>\n",
       "    <tr>\n",
       "      <th>3</th>\n",
       "      <td>bigquery-public-data.austin_bikeshare</td>\n",
       "      <td>bikeshare_trips</td>\n",
       "      <td>start_time</td>\n",
       "      <td>NaN</td>\n",
       "      <td>2018-08-22 23:14:30+00:00, 2018-05-06 16:56:23...</td>\n",
       "      <td>&lt;DatetimeArray&gt;\\n['2018-08-22 23:14:30+00:00',...</td>\n",
       "      <td>995</td>\n",
       "      <td>[2, 2, 2, 2, 2, 1, 1, 1, 1, 1, 1, 1, 1, 1, 1, ...</td>\n",
       "      <td>1000</td>\n",
       "      <td>1.507429e+12</td>\n",
       "      <td>6.080953e+10</td>\n",
       "      <td>1.519464e+12</td>\n",
       "      <td>NaN</td>\n",
       "      <td>NaN</td>\n",
       "      <td>NaN</td>\n",
       "    </tr>\n",
       "    <tr>\n",
       "      <th>4</th>\n",
       "      <td>bigquery-public-data.austin_bikeshare</td>\n",
       "      <td>bikeshare_trips</td>\n",
       "      <td>start_station_id</td>\n",
       "      <td>NaN</td>\n",
       "      <td>2498.0, 2499.0, 2707.0, 2563.0, 2566.0, 3794.0...</td>\n",
       "      <td>[2498.0, 2499.0, 2707.0, 2563.0, 2566.0, 3794....</td>\n",
       "      <td>87</td>\n",
       "      <td>[60, 38, 35, 28, 27, 27, 27, 25, 25, 24, 24, 2...</td>\n",
       "      <td>1000</td>\n",
       "      <td>2.978923e+03</td>\n",
       "      <td>6.106421e+02</td>\n",
       "      <td>2.571500e+03</td>\n",
       "      <td>0.360924</td>\n",
       "      <td>-0.693430</td>\n",
       "      <td>1.000000e+00</td>\n",
       "    </tr>\n",
       "  </tbody>\n",
       "</table>\n",
       "</div>"
      ],
      "text/plain": [
       "                            dataset_name  ... shapiro_wilk_test\n",
       "0  bigquery-public-data.austin_bikeshare  ...      1.401298e-45\n",
       "1  bigquery-public-data.austin_bikeshare  ...               NaN\n",
       "2  bigquery-public-data.austin_bikeshare  ...               NaN\n",
       "3  bigquery-public-data.austin_bikeshare  ...               NaN\n",
       "4  bigquery-public-data.austin_bikeshare  ...      1.000000e+00\n",
       "\n",
       "[5 rows x 15 columns]"
      ]
     },
     "execution_count": 10,
     "metadata": {},
     "output_type": "execute_result"
    }
   ],
   "source": [
    "df_gbq.head()"
   ]
  },
  {
   "cell_type": "code",
   "execution_count": 11,
   "metadata": {},
   "outputs": [
    {
     "data": {
      "text/html": [
       "<div>\n",
       "<style scoped>\n",
       "    .dataframe tbody tr th:only-of-type {\n",
       "        vertical-align: middle;\n",
       "    }\n",
       "\n",
       "    .dataframe tbody tr th {\n",
       "        vertical-align: top;\n",
       "    }\n",
       "\n",
       "    .dataframe thead th {\n",
       "        text-align: right;\n",
       "    }\n",
       "</style>\n",
       "<table border=\"1\" class=\"dataframe\">\n",
       "  <thead>\n",
       "    <tr style=\"text-align: right;\">\n",
       "      <th></th>\n",
       "      <th>dataset_name</th>\n",
       "      <th>table_name</th>\n",
       "      <th>column_name</th>\n",
       "      <th>label</th>\n",
       "      <th>column_values</th>\n",
       "      <th>column_values_unique</th>\n",
       "      <th>n_unique_values</th>\n",
       "      <th>unique_value_counts</th>\n",
       "      <th>n_values</th>\n",
       "      <th>mean</th>\n",
       "      <th>std</th>\n",
       "      <th>median</th>\n",
       "      <th>skew</th>\n",
       "      <th>kurt</th>\n",
       "      <th>shapiro_wilk_test</th>\n",
       "    </tr>\n",
       "  </thead>\n",
       "  <tbody>\n",
       "    <tr>\n",
       "      <th>0</th>\n",
       "      <td>nareshbhat/health-care-data-set-on-heart-attac...</td>\n",
       "      <td>heart.csv</td>\n",
       "      <td>age</td>\n",
       "      <td>NaN</td>\n",
       "      <td>63, 37, 41, 56, 57, 57, 56, 44, 52, 57, 54, 48...</td>\n",
       "      <td>[63, 37, 41, 56, 57, 44, 52, 54, 48, 49, 64, 5...</td>\n",
       "      <td>41</td>\n",
       "      <td>[19, 17, 16, 14, 13, 12, 11, 11, 11, 11, 10, 1...</td>\n",
       "      <td>303</td>\n",
       "      <td>54.366337</td>\n",
       "      <td>9.082101</td>\n",
       "      <td>55.0</td>\n",
       "      <td>-0.202463</td>\n",
       "      <td>-0.542167</td>\n",
       "      <td>5.800190e-03</td>\n",
       "    </tr>\n",
       "    <tr>\n",
       "      <th>1</th>\n",
       "      <td>nareshbhat/health-care-data-set-on-heart-attac...</td>\n",
       "      <td>heart.csv</td>\n",
       "      <td>sex</td>\n",
       "      <td>NaN</td>\n",
       "      <td>1, 1, 0, 1, 0, 1, 0, 1, 1, 1, 1, 0, 1, 1, 0, 0...</td>\n",
       "      <td>[1, 0]</td>\n",
       "      <td>2</td>\n",
       "      <td>[207, 96]</td>\n",
       "      <td>303</td>\n",
       "      <td>0.683168</td>\n",
       "      <td>0.466011</td>\n",
       "      <td>1.0</td>\n",
       "      <td>-0.791335</td>\n",
       "      <td>-1.382961</td>\n",
       "      <td>2.750313e-26</td>\n",
       "    </tr>\n",
       "    <tr>\n",
       "      <th>2</th>\n",
       "      <td>nareshbhat/health-care-data-set-on-heart-attac...</td>\n",
       "      <td>heart.csv</td>\n",
       "      <td>cp</td>\n",
       "      <td>NaN</td>\n",
       "      <td>3, 2, 1, 1, 0, 0, 1, 1, 2, 2, 0, 2, 1, 3, 3, 2...</td>\n",
       "      <td>[3, 2, 1, 0]</td>\n",
       "      <td>4</td>\n",
       "      <td>[143, 87, 50, 23]</td>\n",
       "      <td>303</td>\n",
       "      <td>0.966997</td>\n",
       "      <td>1.032052</td>\n",
       "      <td>1.0</td>\n",
       "      <td>0.484732</td>\n",
       "      <td>-1.193071</td>\n",
       "      <td>1.857026e-19</td>\n",
       "    </tr>\n",
       "    <tr>\n",
       "      <th>3</th>\n",
       "      <td>nareshbhat/health-care-data-set-on-heart-attac...</td>\n",
       "      <td>heart.csv</td>\n",
       "      <td>trestbps</td>\n",
       "      <td>NaN</td>\n",
       "      <td>145, 130, 130, 120, 120, 140, 140, 120, 172, 1...</td>\n",
       "      <td>[145, 130, 120, 140, 172, 150, 110, 135, 160, ...</td>\n",
       "      <td>49</td>\n",
       "      <td>[37, 36, 32, 19, 17, 13, 12, 11, 11, 9, 8, 7, ...</td>\n",
       "      <td>303</td>\n",
       "      <td>131.623762</td>\n",
       "      <td>17.538143</td>\n",
       "      <td>130.0</td>\n",
       "      <td>0.713768</td>\n",
       "      <td>0.929054</td>\n",
       "      <td>1.458000e-06</td>\n",
       "    </tr>\n",
       "    <tr>\n",
       "      <th>4</th>\n",
       "      <td>nareshbhat/health-care-data-set-on-heart-attac...</td>\n",
       "      <td>heart.csv</td>\n",
       "      <td>chol</td>\n",
       "      <td>NaN</td>\n",
       "      <td>233, 250, 204, 236, 354, 192, 294, 263, 199, 1...</td>\n",
       "      <td>[233, 250, 204, 236, 354, 192, 294, 263, 199, ...</td>\n",
       "      <td>152</td>\n",
       "      <td>[6, 6, 6, 5, 5, 5, 4, 4, 4, 4, 4, 4, 4, 4, 3, ...</td>\n",
       "      <td>303</td>\n",
       "      <td>246.264026</td>\n",
       "      <td>51.830751</td>\n",
       "      <td>240.0</td>\n",
       "      <td>1.143401</td>\n",
       "      <td>4.505423</td>\n",
       "      <td>5.400000e-09</td>\n",
       "    </tr>\n",
       "  </tbody>\n",
       "</table>\n",
       "</div>"
      ],
      "text/plain": [
       "                                        dataset_name  ... shapiro_wilk_test\n",
       "0  nareshbhat/health-care-data-set-on-heart-attac...  ...      5.800190e-03\n",
       "1  nareshbhat/health-care-data-set-on-heart-attac...  ...      2.750313e-26\n",
       "2  nareshbhat/health-care-data-set-on-heart-attac...  ...      1.857026e-19\n",
       "3  nareshbhat/health-care-data-set-on-heart-attac...  ...      1.458000e-06\n",
       "4  nareshbhat/health-care-data-set-on-heart-attac...  ...      5.400000e-09\n",
       "\n",
       "[5 rows x 15 columns]"
      ]
     },
     "execution_count": 11,
     "metadata": {},
     "output_type": "execute_result"
    }
   ],
   "source": [
    "df_kaggle.head()"
   ]
  },
  {
   "cell_type": "code",
   "execution_count": 60,
   "metadata": {},
   "outputs": [],
   "source": [
    "unique_vals = df_kaggle.n_unique_values.value_counts()\n",
    "\n",
    "df_tmp = pd.DataFrame({'one':[{val:freq  for val,freq in unique_vals.items()}]})"
   ]
  },
  {
   "cell_type": "code",
   "execution_count": 62,
   "metadata": {},
   "outputs": [
    {
     "data": {
      "text/plain": [
       "2      4\n",
       "4      2\n",
       "3      2\n",
       "41     1\n",
       "49     1\n",
       "152    1\n",
       "91     1\n",
       "40     1\n",
       "5      1\n",
       "Name: n_unique_values, dtype: int64"
      ]
     },
     "execution_count": 62,
     "metadata": {},
     "output_type": "execute_result"
    }
   ],
   "source": [
    "df_kaggle.n_unique_values.value_counts()"
   ]
  },
  {
   "cell_type": "code",
   "execution_count": 64,
   "metadata": {},
   "outputs": [
    {
     "data": {
      "text/html": [
       "<div>\n",
       "<style scoped>\n",
       "    .dataframe tbody tr th:only-of-type {\n",
       "        vertical-align: middle;\n",
       "    }\n",
       "\n",
       "    .dataframe tbody tr th {\n",
       "        vertical-align: top;\n",
       "    }\n",
       "\n",
       "    .dataframe thead th {\n",
       "        text-align: right;\n",
       "    }\n",
       "</style>\n",
       "<table border=\"1\" class=\"dataframe\">\n",
       "  <thead>\n",
       "    <tr style=\"text-align: right;\">\n",
       "      <th></th>\n",
       "      <th>unique_vals</th>\n",
       "    </tr>\n",
       "  </thead>\n",
       "  <tbody>\n",
       "    <tr>\n",
       "      <th>0</th>\n",
       "      <td>2      4\n",
       "4      2\n",
       "3      2\n",
       "41     1\n",
       "49     1\n",
       "1...</td>\n",
       "    </tr>\n",
       "  </tbody>\n",
       "</table>\n",
       "</div>"
      ],
      "text/plain": [
       "                                         unique_vals\n",
       "0  2      4\n",
       "4      2\n",
       "3      2\n",
       "41     1\n",
       "49     1\n",
       "1..."
      ]
     },
     "execution_count": 64,
     "metadata": {},
     "output_type": "execute_result"
    }
   ],
   "source": [
    "pd.DataFrame.from_dict({\"unique_vals\":[df_kaggle.n_unique_values.value_counts()]})"
   ]
  },
  {
   "cell_type": "code",
   "execution_count": 74,
   "metadata": {},
   "outputs": [
    {
     "data": {
      "text/html": [
       "<div>\n",
       "<style scoped>\n",
       "    .dataframe tbody tr th:only-of-type {\n",
       "        vertical-align: middle;\n",
       "    }\n",
       "\n",
       "    .dataframe tbody tr th {\n",
       "        vertical-align: top;\n",
       "    }\n",
       "\n",
       "    .dataframe thead th {\n",
       "        text-align: right;\n",
       "    }\n",
       "</style>\n",
       "<table border=\"1\" class=\"dataframe\">\n",
       "  <thead>\n",
       "    <tr style=\"text-align: right;\">\n",
       "      <th></th>\n",
       "      <th>One</th>\n",
       "    </tr>\n",
       "  </thead>\n",
       "  <tbody>\n",
       "    <tr>\n",
       "      <th>0</th>\n",
       "      <td>[2, 3]</td>\n",
       "    </tr>\n",
       "  </tbody>\n",
       "</table>\n",
       "</div>"
      ],
      "text/plain": [
       "      One\n",
       "0  [2, 3]"
      ]
     },
     "execution_count": 74,
     "metadata": {},
     "output_type": "execute_result"
    }
   ],
   "source": [
    "pd.DataFrame.from_dict([{'One':[2,3]}])"
   ]
  },
  {
   "cell_type": "code",
   "execution_count": 110,
   "metadata": {},
   "outputs": [],
   "source": [
    "features = {\n",
    "    \"dataset_name\": ['Something'],\n",
    "    \"table_name\": ['ASD'],\n",
    "    \"column_name\": ['One'],\n",
    "    \"label\": ['Toad'],\n",
    "    \"unique_vals\":[{val:freq for val,freq in df_kaggle.n_unique_values.value_counts().items()}]\n",
    "}"
   ]
  },
  {
   "cell_type": "markdown",
   "metadata": {},
   "source": []
  },
  {
   "cell_type": "code",
   "execution_count": 111,
   "metadata": {},
   "outputs": [],
   "source": [
    "pd.DataFrame.from_dict(features).to_json('../raw_data/test.json')"
   ]
  },
  {
   "cell_type": "code",
   "execution_count": 100,
   "metadata": {},
   "outputs": [
    {
     "data": {
      "text/plain": [
       "{2: 4, 4: 2, 3: 2, 41: 1, 49: 1, 152: 1, 91: 1, 40: 1, 5: 1}"
      ]
     },
     "execution_count": 100,
     "metadata": {},
     "output_type": "execute_result"
    }
   ],
   "source": [
    "{val:freq for val,freq in df_kaggle.n_unique_values.value_counts().items()}"
   ]
  },
  {
   "cell_type": "code",
   "execution_count": 98,
   "metadata": {},
   "outputs": [
    {
     "data": {
      "text/plain": [
       "{'58': 19,\n",
       " '57': 17,\n",
       " '54': 16,\n",
       " '59': 14,\n",
       " '52': 13,\n",
       " '51': 12,\n",
       " '62': 11,\n",
       " '60': 11,\n",
       " '44': 11,\n",
       " '56': 11,\n",
       " '64': 10,\n",
       " '41': 10,\n",
       " '63': 9,\n",
       " '67': 9,\n",
       " '65': 8,\n",
       " '43': 8,\n",
       " '45': 8,\n",
       " '55': 8,\n",
       " '42': 8,\n",
       " '61': 8,\n",
       " '53': 8,\n",
       " '46': 7,\n",
       " '48': 7,\n",
       " '66': 7,\n",
       " '50': 7,\n",
       " '49': 5,\n",
       " '47': 5,\n",
       " '70': 4,\n",
       " '39': 4,\n",
       " '35': 4,\n",
       " '68': 4,\n",
       " '38': 3,\n",
       " '71': 3,\n",
       " '40': 3,\n",
       " '69': 3,\n",
       " '34': 2,\n",
       " '37': 2,\n",
       " '29': 1,\n",
       " '74': 1,\n",
       " '76': 1,\n",
       " '77': 1}"
      ]
     },
     "execution_count": 98,
     "metadata": {},
     "output_type": "execute_result"
    }
   ],
   "source": [
    "pd.read_json('../raw_data/kaggle_data_v2.json').unique_value_counts.values[0]"
   ]
  },
  {
   "cell_type": "code",
   "execution_count": 112,
   "metadata": {},
   "outputs": [
    {
     "data": {
      "text/html": [
       "<div>\n",
       "<style scoped>\n",
       "    .dataframe tbody tr th:only-of-type {\n",
       "        vertical-align: middle;\n",
       "    }\n",
       "\n",
       "    .dataframe tbody tr th {\n",
       "        vertical-align: top;\n",
       "    }\n",
       "\n",
       "    .dataframe thead th {\n",
       "        text-align: right;\n",
       "    }\n",
       "</style>\n",
       "<table border=\"1\" class=\"dataframe\">\n",
       "  <thead>\n",
       "    <tr style=\"text-align: right;\">\n",
       "      <th></th>\n",
       "      <th>dataset_name</th>\n",
       "      <th>table_name</th>\n",
       "      <th>column_name</th>\n",
       "      <th>label</th>\n",
       "      <th>unique_vals</th>\n",
       "    </tr>\n",
       "  </thead>\n",
       "  <tbody>\n",
       "    <tr>\n",
       "      <th>0</th>\n",
       "      <td>Something</td>\n",
       "      <td>ASD</td>\n",
       "      <td>One</td>\n",
       "      <td>Toad</td>\n",
       "      <td>{'2': 4, '4': 2, '3': 2, '41': 1, '49': 1, '15...</td>\n",
       "    </tr>\n",
       "  </tbody>\n",
       "</table>\n",
       "</div>"
      ],
      "text/plain": [
       "  dataset_name  ...                                        unique_vals\n",
       "0    Something  ...  {'2': 4, '4': 2, '3': 2, '41': 1, '49': 1, '15...\n",
       "\n",
       "[1 rows x 5 columns]"
      ]
     },
     "execution_count": 112,
     "metadata": {},
     "output_type": "execute_result"
    }
   ],
   "source": [
    "pd.read_json('../raw_data/test.json')"
   ]
  },
  {
   "cell_type": "code",
   "execution_count": null,
   "metadata": {},
   "outputs": [],
   "source": []
  }
 ],
 "metadata": {
  "interpreter": {
   "hash": "885d2f8c9ab62d515ed730a355c49651d57832b70813c221aab6cc30d1840e63"
  },
  "kernelspec": {
   "display_name": "Python 3.8.12 64-bit ('classipy_datagen': pyenv)",
   "language": "python",
   "name": "python3"
  },
  "language_info": {
   "codemirror_mode": {
    "name": "ipython",
    "version": 3
   },
   "file_extension": ".py",
   "mimetype": "text/x-python",
   "name": "python",
   "nbconvert_exporter": "python",
   "pygments_lexer": "ipython3",
   "version": "3.8.12"
  },
  "orig_nbformat": 4
 },
 "nbformat": 4,
 "nbformat_minor": 2
}
